{
 "cells": [
  {
   "cell_type": "code",
   "execution_count": null,
   "id": "57770bc6-0756-46e7-96f4-69ab6eb17426",
   "metadata": {},
   "outputs": [],
   "source": [
    "def create_consumer(topic, group_id):\n",
    "    try:\n",
    " \n",
    "        consumer = Consumer({\n",
    "          \"bootstrap.servers\": KAFKA_BROKER,\n",
    "          \"group.id\": group_id,\n",
    "          \"client.id\": socket.gethostname(),\n",
    "          \"isolation.level\":\"read_committed\",\n",
    "          \"default.topic.config\":{\n",
    "                    \"auto.offset.reset\":\"latest\",\n",
    "                    \"enable.auto.commit\": False\n",
    "            }\n",
    "        })\n",
    "        consumer.subscribe([topic])\n",
    "    except Exception as e:\n",
    "        logging.exception(\"nie mogę utworzyć konsumenta\")\n",
    "        consumer = None\n",
    "    return consumer"
   ]
  }
 ],
 "metadata": {
  "kernelspec": {
   "display_name": "Python 3 (ipykernel)",
   "language": "python",
   "name": "python3"
  },
  "language_info": {
   "codemirror_mode": {
    "name": "ipython",
    "version": 3
   },
   "file_extension": ".py",
   "mimetype": "text/x-python",
   "name": "python",
   "nbconvert_exporter": "python",
   "pygments_lexer": "ipython3",
   "version": "3.11.5"
  }
 },
 "nbformat": 4,
 "nbformat_minor": 5
}
